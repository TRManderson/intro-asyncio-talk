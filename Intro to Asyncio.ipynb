{
 "cells": [
  {
   "cell_type": "markdown",
   "metadata": {
    "slideshow": {
     "slide_type": "slide"
    }
   },
   "source": [
    "# Introduction to `asyncio`\n",
    "Tom Manderson"
   ]
  },
  {
   "cell_type": "markdown",
   "metadata": {
    "slideshow": {
     "slide_type": "slide"
    }
   },
   "source": [
    "# Who does this guy think he is anyway?\n",
    "\n",
    "- Final sem software engineering/maths dual student (6th year 😭)\n",
    "- Professional Python developer for 3.5 years\n",
    "- Currently a freelance consultant\n",
    "- Secretly loves Haskell more than Python\n",
    "- Ex-President of UQCS\n"
   ]
  },
  {
   "cell_type": "markdown",
   "metadata": {
    "slideshow": {
     "slide_type": "slide"
    }
   },
   "source": [
    "# What’s he going on about now?\n",
    "\n",
    "- Some theory (concurrency, parallelism, asynchrony)\n",
    "- Asynchronous coroutines\n",
    "  - What they are\n",
    "  - How to run them\n",
    "- Tasks in `asyncio`\n",
    "  - Using them for concurrency\n",
    "  - Asyncio weirdness\n",
    "- Dealing with threading\n",
    "  - `asyncio` executors\n",
    "  - Threadsafe async\n",
    "  - How to wrap a non-async library\n",
    "- Example funtimes\n",
    "\n",
    "All these slides are a Jupyter notebook and I will be running the code live! 😱\n",
    "\n"
   ]
  },
  {
   "cell_type": "markdown",
   "metadata": {
    "slideshow": {
     "slide_type": "subslide"
    }
   },
   "source": [
    "# Please ask me questions throughout the talk\n",
    "\n",
    "If asking a question will help further _your_ understanding, it'll undoubtedly help someone else understand better too. No question is too stupid or too complex."
   ]
  },
  {
   "cell_type": "code",
   "execution_count": 1,
   "metadata": {
    "init_cell": true,
    "slideshow": {
     "slide_type": "subslide"
    }
   },
   "outputs": [],
   "source": [
    "# The topic of this talk\n",
    "import asyncio\n",
    "\n",
    "# Types are good, use them\n",
    "from typing import *\n",
    "\n",
    "# So we can use pretty pictures\n",
    "from IPython.display import Image, display, display_html\n",
    "\n",
    "# For synchronous examples\n",
    "import requests\n",
    "import time\n",
    "\n",
    "# For async examples\n",
    "import aiohttp"
   ]
  },
  {
   "cell_type": "code",
   "execution_count": 2,
   "metadata": {
    "init_cell": true,
    "slideshow": {
     "slide_type": "skip"
    }
   },
   "outputs": [],
   "source": [
    "%autoawait on\n",
    "asyncio.get_event_loop().set_debug(False)"
   ]
  },
  {
   "cell_type": "markdown",
   "metadata": {
    "slideshow": {
     "slide_type": "slide"
    }
   },
   "source": [
    "# Concurrency vs Parallelism\n",
    "_Patting your head while rubbing your tummy_\n",
    "\n",
    "## Concurrency\n",
    "\n",
    "Doing two processes at once\n",
    "\n",
    "## Parallelism\n",
    "\n",
    "Taking two actions at once\n",
    "\n",
    "A \"process\" is made up of multiple actions"
   ]
  },
  {
   "cell_type": "markdown",
   "metadata": {
    "slideshow": {
     "slide_type": "subslide"
    }
   },
   "source": [
    "# Example\n",
    "\n",
    "To steal an example from Go, let's burn a bunch of Go programming language manuals.\n",
    "\n",
    "![A gopher burns books](gopher-book-burning.jpg)"
   ]
  },
  {
   "cell_type": "markdown",
   "metadata": {
    "slideshow": {
     "slide_type": "fragment"
    }
   },
   "source": [
    "### Concurrency\n",
    "The gopher puts the books in the fire, and while they are burning goes back and fetches more books.\n",
    "\n",
    "### Parallelism\n",
    "The gopher brings a friend along to help shovel the books into the fire"
   ]
  },
  {
   "cell_type": "markdown",
   "metadata": {
    "slideshow": {
     "slide_type": "notes"
    }
   },
   "source": [
    "Quote myself: I'm loath to take anything from Go but this example is a good one"
   ]
  },
  {
   "cell_type": "markdown",
   "metadata": {
    "slideshow": {
     "slide_type": "slide"
    }
   },
   "source": [
    "# Synchronous vs Asynchronous\n",
    "_Useful impatience_"
   ]
  },
  {
   "cell_type": "markdown",
   "metadata": {
    "slideshow": {
     "slide_type": "fragment"
    }
   },
   "source": [
    "### Synchronous programming\n",
    "Start doing something, wait for it to finish, then move on to the next thing\n",
    "\n",
    "### Asynchronous programming\n",
    "Start doing something, continue with other work, then wait for it to finish when you need the result"
   ]
  },
  {
   "cell_type": "markdown",
   "metadata": {
    "slideshow": {
     "slide_type": "subslide"
    }
   },
   "source": [
    "# Example\n",
    "\n",
    "![A gopher burns books](gopher-book-burning.jpg)\n",
    "\n",
    "### Synchronous programming\n",
    "\n",
    "1. Load up books\n",
    "2. Take books to the fire\n",
    "3. Burn books\n",
    "4. Go back to book pile\n",
    "\n",
    "### Asynchronous programming\n",
    "\n",
    "1. Load up the books\n",
    "2. Take books to the fire\n",
    "3. Wait for the fire to be available\n",
    "4. Put books in the fire\n",
    "5. Go back to the book pile\n"
   ]
  },
  {
   "cell_type": "markdown",
   "metadata": {
    "slideshow": {
     "slide_type": "notes"
    }
   },
   "source": [
    "Specifically note that adding more gophers makes the synchronous version concurrent, but it's still synchronous\n",
    "\n",
    "You can add more workers, but the worker uses the same paradigm"
   ]
  },
  {
   "cell_type": "markdown",
   "metadata": {
    "slideshow": {
     "slide_type": "slide"
    }
   },
   "source": [
    "# So what's `asyncio`?\n",
    "- Part of the Python standard library since Python 3.4\n",
    "- Tolerable since Python 3.5\n",
    "- Performant since Python 3.6\n",
    "- Good since Python 3.7\n",
    "- Standardises asynchronous programming in Python"
   ]
  },
  {
   "cell_type": "markdown",
   "metadata": {
    "slideshow": {
     "slide_type": "subslide"
    }
   },
   "source": [
    "# Coroutines\n",
    "\n",
    "- Short for \"cooperative routine\"\n",
    "- A process (assume it's a function) that can be paused and resumed\n",
    "- Used for \"non-preemptive multitasking\" or \"cooperative multitasking\""
   ]
  },
  {
   "cell_type": "markdown",
   "metadata": {
    "slideshow": {
     "slide_type": "subslide"
    }
   },
   "source": [
    "## Preemptive multitasking\n",
    "\n",
    "![Dictionary definition of pre-empt](preempt-def.png)\n",
    "\n",
    ">Preemptive multitasking involves the use of an interrupt mechanism which suspends the currently executing process and invokes a scheduler to determine which process should execute next.\n",
    "-- Wikipedia: \"Preemption (Computing)\""
   ]
  },
  {
   "cell_type": "markdown",
   "metadata": {
    "slideshow": {
     "slide_type": "subslide"
    }
   },
   "source": [
    "## Cooperative multitasking\n",
    "\n",
    "- Instead of being preempted, a coroutine yields control to the caller\n",
    "- Called \"cooperative\" because the task keeps executing until it agrees to be paused\n",
    "- Uncooperative tasks can hog all the computing time\n",
    "\n",
    "The best part? You've probably already seen coroutines in Python!"
   ]
  },
  {
   "cell_type": "code",
   "execution_count": null,
   "metadata": {
    "slideshow": {
     "slide_type": "fragment"
    }
   },
   "outputs": [],
   "source": [
    "def fibonacci() -> Generator[int, None, None]:\n",
    "    x, y = 1, 1\n",
    "    yield 1\n",
    "    yield 1\n",
    "    while True:\n",
    "        x, y = y, x + y\n",
    "        yield y\n",
    "\n",
    "coroutine = fibonacci()"
   ]
  },
  {
   "cell_type": "code",
   "execution_count": null,
   "metadata": {
    "slideshow": {
     "slide_type": "fragment"
    }
   },
   "outputs": [],
   "source": [
    "print(next(coroutine))\n",
    "print(next(coroutine))\n",
    "print(next(coroutine))\n",
    "print(\"The coroutine is in an infite loop but it agreed to be paused\")\n",
    "print(next(coroutine))"
   ]
  },
  {
   "cell_type": "markdown",
   "metadata": {
    "slideshow": {
     "slide_type": "notes"
    }
   },
   "source": [
    "Smash that execute button multiple times - we have the same coroutine and it's still paused"
   ]
  },
  {
   "cell_type": "markdown",
   "metadata": {
    "slideshow": {
     "slide_type": "slide"
    }
   },
   "source": [
    "# and now, for something completely different!"
   ]
  },
  {
   "cell_type": "markdown",
   "metadata": {
    "slideshow": {
     "slide_type": "-"
    }
   },
   "source": [
    "(but not really)"
   ]
  },
  {
   "cell_type": "markdown",
   "metadata": {
    "slideshow": {
     "slide_type": "subslide"
    }
   },
   "source": [
    "# Actually using `asyncio`!\n",
    "Let's make a HTTP request!"
   ]
  },
  {
   "cell_type": "code",
   "execution_count": 3,
   "metadata": {
    "init_cell": true,
    "slideshow": {
     "slide_type": "skip"
    }
   },
   "outputs": [],
   "source": [
    "def display_image(data, **kwargs):\n",
    "    display(Image(data=data, **kwargs))\n",
    "\n",
    "image_url = \"https://emojipedia-us.s3.dualstack.us-west-1.amazonaws.com/thumbs/160/google/146/t-rex_1f996.png\""
   ]
  },
  {
   "cell_type": "markdown",
   "metadata": {
    "slideshow": {
     "slide_type": "fragment"
    }
   },
   "source": [
    "## Synchronous version"
   ]
  },
  {
   "cell_type": "code",
   "execution_count": null,
   "metadata": {
    "slideshow": {
     "slide_type": "-"
    }
   },
   "outputs": [],
   "source": [
    "def fetch_image_sync():\n",
    "    response = requests.get(image_url)\n",
    "    return response.content\n",
    "\n",
    "image_data = fetch_image_sync()\n",
    "print(type(image_data))\n",
    "display_image(image_data, width=\"100px\") "
   ]
  },
  {
   "cell_type": "markdown",
   "metadata": {
    "slideshow": {
     "slide_type": "notes"
    }
   },
   "source": [
    "Mention that I've pre-defined `display_image`"
   ]
  },
  {
   "cell_type": "markdown",
   "metadata": {
    "slideshow": {
     "slide_type": "subslide"
    }
   },
   "source": [
    "# Asynchronous version"
   ]
  },
  {
   "cell_type": "code",
   "execution_count": null,
   "metadata": {
    "slideshow": {
     "slide_type": "-"
    }
   },
   "outputs": [],
   "source": [
    "def fetch_image_sync():\n",
    "    response = requests.get(image_url)\n",
    "    return response.content\n",
    "\n",
    "async def fetch_image_async() -> bytes:\n",
    "    with aiohttp.ClientSession() as session:\n",
    "        response = session.get(img_url)\n",
    "        return response.read()\n",
    "\n",
    "image_data_sync = fetch_image_sync()\n",
    "image_data_async = fetch_image_async()\n",
    "print('sync:', type(image_data_sync))\n",
    "print('async:', type(image_data_async))\n",
    "image_data_async"
   ]
  },
  {
   "cell_type": "markdown",
   "metadata": {
    "slideshow": {
     "slide_type": "subslide"
    }
   },
   "source": [
    "So uhhhh, how the hell do we actually run the thing...?"
   ]
  },
  {
   "cell_type": "code",
   "execution_count": null,
   "metadata": {
    "deletable": false,
    "editable": false,
    "run_control": {
     "frozen": true
    },
    "slideshow": {
     "slide_type": "-"
    }
   },
   "outputs": [],
   "source": [
    "coro = fetch_image_async()\n",
    "\n",
    "# In Python 3.7 it's super easy, you just:\n",
    "asyncio.run(coro)\n",
    "\n",
    "# In Python 3.6 it's still kinda easy but less good:\n",
    "loop = asyncio.get_event_loop()\n",
    "loop.run_until_complete(coro)\n",
    "\n",
    "# OR, if you're in another `async` function\n",
    "async def other_func():\n",
    "    await coro"
   ]
  },
  {
   "cell_type": "markdown",
   "metadata": {
    "slideshow": {
     "slide_type": "fragment"
    }
   },
   "source": [
    "**DISCLAIMER:** Due to weirdness with how I've put these slides together (Jupyter Notebook) I don't run async stuff the normal way. Instead, I get to do this:"
   ]
  },
  {
   "cell_type": "code",
   "execution_count": null,
   "metadata": {
    "scrolled": true,
    "slideshow": {
     "slide_type": "-"
    }
   },
   "outputs": [],
   "source": [
    "await fetch_image_async()"
   ]
  },
  {
   "cell_type": "markdown",
   "metadata": {
    "slideshow": {
     "slide_type": "subslide"
    }
   },
   "source": [
    "## So uhh, that wasn't supposed to happen...\n",
    "\n",
    "Pretty weird error... Let's review the code"
   ]
  },
  {
   "cell_type": "code",
   "execution_count": null,
   "metadata": {
    "slideshow": {
     "slide_type": "-"
    }
   },
   "outputs": [],
   "source": [
    "async def fetch_image_async() -> None:\n",
    "    with aiohttp.ClientSession() as session:\n",
    "        response = session.get(img_url)\n",
    "        return response.read()"
   ]
  },
  {
   "cell_type": "markdown",
   "metadata": {
    "slideshow": {
     "slide_type": "fragment"
    }
   },
   "source": [
    "### How it's actually done"
   ]
  },
  {
   "cell_type": "code",
   "execution_count": null,
   "metadata": {},
   "outputs": [],
   "source": [
    "async def fetch_image_async() -> None:\n",
    "    async with aiohttp.ClientSession() as session:\n",
    "        response = await session.get(image_url)\n",
    "        return (await response.read())\n",
    "\n",
    "image_data_async = await fetch_image_async()\n",
    "print(type(image_data_async))\n",
    "display_image(image_data_async, width=\"100px\")"
   ]
  },
  {
   "cell_type": "markdown",
   "metadata": {
    "slideshow": {
     "slide_type": "subslide"
    }
   },
   "source": [
    "# Takeaways\n",
    "- async context managers are a thing too, and they're different\n",
    "  - I didn't show you but async for loops are a thing too\n",
    "  - `async for x in ...:` is when async is used to generate the things you're iterating over\n",
    "- you have to write `await` a lot"
   ]
  },
  {
   "cell_type": "code",
   "execution_count": null,
   "metadata": {
    "slideshow": {
     "slide_type": "-"
    }
   },
   "outputs": [],
   "source": [
    "async def fetch_image_async() -> None:\n",
    "    async with aiohttp.ClientSession() as session:\n",
    "        response = await session.get(image_url)\n",
    "        return (await response.read())"
   ]
  },
  {
   "cell_type": "markdown",
   "metadata": {
    "slideshow": {
     "slide_type": "subslide"
    }
   },
   "source": [
    "# Reminder: how to start coroutines\n",
    "This is a part people forget a lot so I'm just reminding you quickly"
   ]
  },
  {
   "cell_type": "code",
   "execution_count": null,
   "metadata": {
    "deletable": false,
    "editable": false,
    "run_control": {
     "frozen": true
    },
    "scrolled": true
   },
   "outputs": [],
   "source": [
    "# Python 3.7\n",
    "asyncio.run(coro)\n",
    "\n",
    "# Python 3.6\n",
    "loop = asyncio.get_event_loop()\n",
    "loop.run_until_complete(coro)\n",
    "\n",
    "# When defining another coroutine\n",
    "async def other_func():\n",
    "    await coro"
   ]
  },
  {
   "cell_type": "markdown",
   "metadata": {
    "slideshow": {
     "slide_type": "slide"
    }
   },
   "source": [
    "# Tasks\n",
    "- Actually using `asyncio` for concurrency\n",
    "- Some potentially unintuitive behaviour\n",
    "- Cats"
   ]
  },
  {
   "cell_type": "code",
   "execution_count": null,
   "metadata": {
    "scrolled": false,
    "slideshow": {
     "slide_type": ""
    }
   },
   "outputs": [],
   "source": [
    "async def fetch_cats_async() -> None:\n",
    "    async with aiohttp.ClientSession() as session:\n",
    "        for cat in [200, 418, 500]:\n",
    "            start_time = time.time()\n",
    "            response = await session.get(f\"http://http.cat/{cat}\")\n",
    "            cat_pic = await response.read()\n",
    "            display_image(cat_pic, width=\"200px\")\n",
    "            print(time.time() - start_time)\n",
    "start_time = time.time()\n",
    "await fetch_cats_async()\n",
    "print(time.time() - start_time)"
   ]
  },
  {
   "cell_type": "markdown",
   "metadata": {
    "slideshow": {
     "slide_type": "subslide"
    }
   },
   "source": [
    "# Why don't we do it concurrently?"
   ]
  },
  {
   "cell_type": "code",
   "execution_count": null,
   "metadata": {},
   "outputs": [],
   "source": [
    "async def fetch_a_cat(session, number) -> None:\n",
    "    start_time = time.time()\n",
    "    response = await session.get(f\"http://http.cat/{number}\")\n",
    "    cat_pic = await response.read()\n",
    "    display_image(cat_pic, width=\"200px\")\n",
    "    print(time.time() - start_time)\n",
    "\n",
    "async def fetch_cats_async() -> None:\n",
    "    async with aiohttp.ClientSession() as session:\n",
    "        coros = [fetch_a_cat(session, cat) for cat in [200, 418, 500]]\n",
    "        for coro in coros:\n",
    "            await coro\n",
    "\n",
    "start = time.time()\n",
    "await fetch_cats_async()\n",
    "print('Total', time.time() - start)"
   ]
  },
  {
   "cell_type": "markdown",
   "metadata": {
    "slideshow": {
     "slide_type": "subslide"
    }
   },
   "source": [
    "`asyncio` does not start coroutines until they are awaited! Instead you have to make them a task."
   ]
  },
  {
   "cell_type": "code",
   "execution_count": null,
   "metadata": {},
   "outputs": [],
   "source": [
    "async def fetch_a_cat(session, number) -> None:\n",
    "    start_time = time.time()\n",
    "    response = await session.get(f\"http://http.cat/{number}\")\n",
    "    cat_pic = await response.read()\n",
    "    display_image(cat_pic, width=\"200px\")\n",
    "    print(time.time() - start_time)\n",
    "\n",
    "async def fetch_cats_async() -> None:\n",
    "    async with aiohttp.ClientSession() as session:\n",
    "        coros = [fetch_a_cat(session, cat) for cat in [200, 418, 500]]\n",
    "        # in Python 3.6 use asyncio.ensure_future instead\n",
    "        coros = [asyncio.create_task(coro) for coro in coros]\n",
    "        for coro in coros:\n",
    "            await coro\n",
    "        \n",
    "start = time.time()\n",
    "await fetch_cats_async()\n",
    "print('Total', time.time() - start)"
   ]
  },
  {
   "cell_type": "markdown",
   "metadata": {
    "slideshow": {
     "slide_type": "subslide"
    }
   },
   "source": [
    "So now we can start things concurrently, but do we really have to...\n",
    "1. create the coroutine\n",
    "2. turn it into a task\n",
    "3. await the task?"
   ]
  },
  {
   "cell_type": "code",
   "execution_count": null,
   "metadata": {
    "scrolled": true,
    "slideshow": {
     "slide_type": "fragment"
    }
   },
   "outputs": [],
   "source": [
    "async def fetch_cats_async() -> None:\n",
    "    async with aiohttp.ClientSession() as session:\n",
    "        coros = [fetch_a_cat(session, cat) for cat in [200, 418, 500]]\n",
    "        await asyncio.gather(*coros)\n",
    "        \n",
    "start = time.time()\n",
    "await fetch_cats_async()\n",
    "print('Total', time.time() - start)"
   ]
  },
  {
   "cell_type": "markdown",
   "metadata": {
    "slideshow": {
     "slide_type": "notes"
    }
   },
   "source": [
    "This is the \"introducing `asyncio.gather`\" slide"
   ]
  },
  {
   "cell_type": "markdown",
   "metadata": {
    "slideshow": {
     "slide_type": "slide"
    }
   },
   "source": [
    "# Dealing with threading\n",
    "  - `asyncio` executors\n",
    "  - Threadsafe async\n",
    "  - How to wrap a non-async library"
   ]
  },
  {
   "cell_type": "code",
   "execution_count": null,
   "metadata": {},
   "outputs": [],
   "source": [
    "def fetch_a_cat_sync(number) -> None:\n",
    "    start_time = time.time()\n",
    "    response = requests.get(f\"http://http.cat/{number}\")\n",
    "    display_image(response.content, width=\"200px\")\n",
    "    print(time.time() - start_time)\n",
    "\n",
    "async def fetch_cats_threadpool() -> None:\n",
    "    loop = asyncio.get_running_loop()\n",
    "    async with aiohttp.ClientSession() as session:\n",
    "        tasks = []\n",
    "        for cat in [200, 418, 500]:\n",
    "            tasks.append(loop.run_in_executor(None, fetch_a_cat_sync, cat))\n",
    "        for task in tasks:\n",
    "            await task\n",
    "\n",
    "start = time.time()\n",
    "await fetch_cats_async()\n",
    "print('Total', time.time() - start)"
   ]
  },
  {
   "cell_type": "markdown",
   "metadata": {
    "slideshow": {
     "slide_type": "subslide"
    }
   },
   "source": [
    "# What is an executor?\n",
    "- Provided by Python's `concurrent.futures` module since Python 2\n",
    "- Two versions by default\n",
    "  - `ThreadPoolExecutor`\n",
    "  - `ProcessPoolExecutor`\n",
    "- Provides an abstract `Executor` you can extend yourself\n",
    "- Relies around the concept of \"futures\""
   ]
  },
  {
   "cell_type": "markdown",
   "metadata": {
    "slideshow": {
     "slide_type": "subslide"
    }
   },
   "source": [
    "# What's a future?\n",
    "- AKA as a \"Promise\" in JS land\n",
    "- It's a marker for something that will eventually be a value\n",
    "- In `asyncio` they're used as a bridge between coroutines and synchronous code"
   ]
  },
  {
   "cell_type": "code",
   "execution_count": null,
   "metadata": {},
   "outputs": [],
   "source": [
    "class Future():\n",
    "    def cancel(): pass\n",
    "    def cancelled(): pass\n",
    "    def running(): pass\n",
    "    def done(): pass\n",
    "    def result(timeout=None): pass\n",
    "    def exception(timeout=None): pass\n",
    "    def add_done_callback(fn): pass\n",
    "    def set_running_or_notify_cancel(): pass\n",
    "    def set_result(result): pass\n",
    "    def set_exception(exception): pass"
   ]
  },
  {
   "cell_type": "code",
   "execution_count": null,
   "metadata": {
    "slideshow": {
     "slide_type": "subslide"
    }
   },
   "outputs": [],
   "source": [
    "def worker(queue):\n",
    "    for future, fn, args, kwargs iter(queue, None):\n",
    "        if future.set_running_or_notify_cancel():\n",
    "            continue\n",
    "        try:\n",
    "            result = fn(*args, **kwargs)\n",
    "        except Exception as err:\n",
    "            future.set_exception(err)\n",
    "            continue\n",
    "        future.set_result(result)\n",
    "\n",
    "class OneThreadExecutor(Executor):"
   ]
  },
  {
   "cell_type": "markdown",
   "metadata": {
    "slideshow": {
     "slide_type": "slide"
    }
   },
   "source": [
    "# Questions?\n",
    "\n",
    "This isn't your last chance, we're going to go over some examples of more complex stuff after this"
   ]
  },
  {
   "cell_type": "markdown",
   "metadata": {
    "slideshow": {
     "slide_type": "slide"
    }
   },
   "source": [
    "# Example time\n",
    "\n",
    "- Webapp using sanic\n",
    "- TCP echo server\n",
    "- Bridging a callback-based library for Kafka with `asyncio`"
   ]
  },
  {
   "cell_type": "code",
   "execution_count": null,
   "metadata": {
    "deletable": false,
    "editable": false,
    "run_control": {
     "frozen": true
    },
    "slideshow": {
     "slide_type": "subslide"
    }
   },
   "outputs": [],
   "source": [
    "from sanic import Sanic\n",
    "from sanic import response as res\n",
    "\n",
    "app = Sanic(__name__)\n",
    "\n",
    "\n",
    "@app.route(\"/\")\n",
    "async def test(req):\n",
    "    return res.text(\"I\\'m a teapot\", status=418)\n",
    "\n",
    "\n",
    "if __name__ == '__main__':\n",
    "    app.run(host=\"0.0.0.0\", port=8000)"
   ]
  },
  {
   "cell_type": "code",
   "execution_count": null,
   "metadata": {
    "deletable": false,
    "editable": false,
    "run_control": {
     "frozen": true
    },
    "slideshow": {
     "slide_type": "subslide"
    }
   },
   "outputs": [],
   "source": [
    "import asyncio\n",
    "\n",
    "async def handle_echo(reader: asyncio.StreamReader, writer: asyncio.StreamWriter):\n",
    "    data = await reader.read(100)\n",
    "    message = data.decode()\n",
    "    addr = writer.get_extra_info('peername')\n",
    "\n",
    "    print(f\"Received {message!r} from {addr!r}\")\n",
    "\n",
    "    print(f\"Send: {message!r}\")\n",
    "    writer.write(data)\n",
    "    await writer.drain()\n",
    "\n",
    "    print(\"Close the connection\")\n",
    "    writer.close()\n",
    "\n",
    "async def main():\n",
    "    server = await asyncio.start_server(handle_echo, '127.0.0.1', 8888)\n",
    "\n",
    "    addr = server.sockets[0].getsockname()\n",
    "    print(f'Serving on {addr}')\n",
    "\n",
    "    async with server:\n",
    "        await server.serve_forever()\n",
    "\n",
    "if __name__ == \"__main__\":\n",
    "    asyncio.run(main())"
   ]
  },
  {
   "cell_type": "code",
   "execution_count": null,
   "metadata": {
    "deletable": false,
    "editable": false,
    "run_control": {
     "frozen": true
    },
    "slideshow": {
     "slide_type": "subslide"
    }
   },
   "outputs": [],
   "source": [
    "class AsyncKafkaProducer(Producer):\n",
    "    def __init__(self, config, loop: asyncio.AbstractEventLoop=None):\n",
    "        super().__init__(config)\n",
    "        if loop is None:\n",
    "            loop = asyncio.get_event_loop()\n",
    "        self._poll_handle = loop.call_soon(self._poll_loop)\n",
    "\n",
    "    def _poll_loop(self):\n",
    "        loop = asyncio.get_running_loop()\n",
    "        self.poll(0)\n",
    "        self._poll_handle = loop.call_later(1, self._poll_loop)\n",
    "\n",
    "    def _send_callback(self, future: asyncio.Future, err, msg):\n",
    "        if err is not None:\n",
    "            future.set_exception(err)\n",
    "        else:\n",
    "            future.set_result(None)\n",
    "\n",
    "    async def send(self, topic: str, message: dict) -> None:\n",
    "        loop = asyncio.get_running_loop()\n",
    "        fut = loop.create_future()\n",
    "        on_delivery_cb = functools.partial(self._send_callback, fut)\n",
    "        self.produce(topic, message, callback=on_delivery_cb)\n",
    "        loop.call_soon(self.poll, 0)\n",
    "        return await fut\n",
    "\n",
    "    def __del__(self):\n",
    "        self._poll_handle.cancel()"
   ]
  }
 ],
 "metadata": {
  "celltoolbar": "Slideshow",
  "kernelspec": {
   "display_name": "Python 3",
   "language": "python",
   "name": "python3"
  },
  "language_info": {
   "codemirror_mode": {
    "name": "ipython",
    "version": 3
   },
   "file_extension": ".py",
   "mimetype": "text/x-python",
   "name": "python",
   "nbconvert_exporter": "python",
   "pygments_lexer": "ipython3",
   "version": "3.6.1"
  }
 },
 "nbformat": 4,
 "nbformat_minor": 2
}
